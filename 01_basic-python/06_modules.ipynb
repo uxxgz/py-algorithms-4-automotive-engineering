{
  "cells": [
    {
      "cell_type": "markdown",
      "metadata": {
        "id": "view-in-github",
        "colab_type": "text"
      },
      "source": [
        "<a href=\"https://colab.research.google.com/github/uxxgz/py-algorithms-4-automotive-engineering/blob/master/01_basic-python/06_modules.ipynb\" target=\"_parent\"><img src=\"https://colab.research.google.com/assets/colab-badge.svg\" alt=\"Open In Colab\"/></a>"
      ]
    },
    {
      "cell_type": "markdown",
      "metadata": {
        "id": "WJwWnFj3kjGk"
      },
      "source": [
        "[Table of contents](../toc.ipynb)\n",
        "\n",
        "# Modules\n",
        "\n",
        "* Python comes with a rich standard library of modules, which are organized in packages.\n",
        "* A module is a Python file which you can import in your project.\n",
        "* A package is a collection of modules.\n",
        "* Please take a look at the standard library [https://docs.python.org/3/library/](https://docs.python.org/3/library/)."
      ]
    },
    {
      "cell_type": "markdown",
      "metadata": {
        "id": "VEN1N_vSkjGp"
      },
      "source": [
        "* The import of modules is done by `import` keyword.\n",
        "* Next we will import the statistics module from Python's standard lib."
      ]
    },
    {
      "cell_type": "code",
      "execution_count": 2,
      "metadata": {
        "id": "0hqTXGdbkjGq"
      },
      "outputs": [],
      "source": [
        "import statistics"
      ]
    },
    {
      "cell_type": "markdown",
      "metadata": {
        "id": "HGzyIqB0kjGr"
      },
      "source": [
        "## Explicit import\n",
        "\n",
        "* This import was done explicitly. All names of the module are preserved.\n",
        "* You can access the methods with a period `.`."
      ]
    },
    {
      "cell_type": "code",
      "execution_count": 3,
      "metadata": {
        "id": "lIC1PhXKkjGr",
        "outputId": "c2fc749d-799d-452f-ea94-505c53aa8cc3",
        "colab": {
          "base_uri": "https://localhost:8080/"
        }
      },
      "outputs": [
        {
          "output_type": "execute_result",
          "data": {
            "text/plain": [
              "2"
            ]
          },
          "metadata": {},
          "execution_count": 3
        }
      ],
      "source": [
        "statistics.mean([0, 1, 2, 3, 4])"
      ]
    },
    {
      "cell_type": "code",
      "execution_count": null,
      "metadata": {
        "id": "Ckf3iGcXkjGs",
        "outputId": "44cc7e6e-a27f-4745-812b-890bae66cef7"
      },
      "outputs": [
        {
          "data": {
            "text/plain": [
              "1.5"
            ]
          },
          "execution_count": 3,
          "metadata": {},
          "output_type": "execute_result"
        }
      ],
      "source": [
        "statistics.median([0, 1, 2, 4])"
      ]
    },
    {
      "cell_type": "markdown",
      "metadata": {
        "id": "M8DrrRz3kjGt"
      },
      "source": [
        "## Import with alias\n",
        "\n",
        "* It is often convenient to use a short hand alias."
      ]
    },
    {
      "cell_type": "code",
      "execution_count": null,
      "metadata": {
        "id": "DvVlKanHkjGt"
      },
      "outputs": [],
      "source": [
        "import statistics as stat"
      ]
    },
    {
      "cell_type": "code",
      "execution_count": null,
      "metadata": {
        "id": "JrtQnC26kjGu",
        "outputId": "d0ea587a-3652-480a-d605-bed3422681b6"
      },
      "outputs": [
        {
          "data": {
            "text/plain": [
              "3.3333333333333335"
            ]
          },
          "execution_count": 5,
          "metadata": {},
          "output_type": "execute_result"
        }
      ],
      "source": [
        "stat.mean([5, 3, 2])"
      ]
    },
    {
      "cell_type": "markdown",
      "metadata": {
        "id": "2cT4jUNxkjGv"
      },
      "source": [
        "## Import specific module content\n",
        "\n",
        "* You can also import just one function or any other object of a module."
      ]
    },
    {
      "cell_type": "code",
      "execution_count": null,
      "metadata": {
        "id": "Bm1zKVMtkjGw"
      },
      "outputs": [],
      "source": [
        "from statistics import mean as my_mean"
      ]
    },
    {
      "cell_type": "code",
      "execution_count": null,
      "metadata": {
        "id": "KhNmEg_lkjGw",
        "outputId": "4bee9d25-b87b-482b-fd98-336b8202f9f5"
      },
      "outputs": [
        {
          "data": {
            "text/plain": [
              "2"
            ]
          },
          "execution_count": 7,
          "metadata": {},
          "output_type": "execute_result"
        }
      ],
      "source": [
        "my_mean([1, 2, 3])"
      ]
    },
    {
      "cell_type": "markdown",
      "metadata": {
        "id": "tqMMuBidkjGy"
      },
      "source": [
        "## Implicit import\n",
        "\n",
        "* With an asterisk `*`, you can also import all module content in an implicit way.\n",
        "* However, this could override some older imports or self defined functions! So please use it rarely.\n",
        "* The syntax is `from module import *`."
      ]
    },
    {
      "cell_type": "markdown",
      "metadata": {
        "id": "Aav679rbkjGz"
      },
      "source": [
        "## Self written modules\n",
        "\n",
        "* If you want to write your own module, you just have to add an empty `__init__.py` in the directory where the module is saved.\n",
        "* So the structure could look like\n",
        "\n",
        "```\n",
        "scritpt.py # a script which imports the module\n",
        "src # a folder\n",
        "  |    __init__.py # empty file\n",
        "  |    my_module.py # your module which contains for instance some functions\n",
        "```"
      ]
    },
    {
      "cell_type": "markdown",
      "metadata": {
        "id": "KKIxqZ9ykjGz"
      },
      "source": [
        "## Exercise: Modules  (5 minutes)\n",
        "\n",
        "<img src=\"https://github.com/uxxgz/py-algorithms-4-automotive-engineering/blob/master/_static/exercise.png?raw=1\" alt=\"Exercise\" width=\"75\" align=\"left\">\n",
        "\n",
        "* Write a function, which returns the standard deviation of the list `[1.5, 2.5, 2.5, 2.75, 3.25, 4.75]`\n",
        "\n",
        "**Hint**\n",
        "* You are free to implement the standard deviation from scratch, but is it already out there?"
      ]
    },
    {
      "cell_type": "markdown",
      "metadata": {
        "id": "1casgpxEkjG0"
      },
      "source": [
        "## Solution\n",
        "\n",
        "Please find one possible solution in [`solution_module.py`](solution_module.py) file."
      ]
    },
    {
      "cell_type": "code",
      "execution_count": 4,
      "metadata": {
        "id": "QcThTYTWkjG1",
        "outputId": "3c415afb-2d8c-48c2-f1e0-83ac89ed33a2",
        "colab": {
          "base_uri": "https://localhost:8080/",
          "height": 356
        }
      },
      "outputs": [
        {
          "output_type": "error",
          "ename": "ModuleNotFoundError",
          "evalue": "ignored",
          "traceback": [
            "\u001b[0;31m---------------------------------------------------------------------------\u001b[0m",
            "\u001b[0;31mModuleNotFoundError\u001b[0m                       Traceback (most recent call last)",
            "\u001b[0;32m<ipython-input-4-bf4fd4a27472>\u001b[0m in \u001b[0;36m<cell line: 4>\u001b[0;34m()\u001b[0m\n\u001b[1;32m      2\u001b[0m \u001b[0msys\u001b[0m\u001b[0;34m.\u001b[0m\u001b[0mpath\u001b[0m\u001b[0;34m.\u001b[0m\u001b[0mappend\u001b[0m\u001b[0;34m(\u001b[0m\u001b[0;34m\"01_basic-python\"\u001b[0m\u001b[0;34m)\u001b[0m\u001b[0;34m\u001b[0m\u001b[0;34m\u001b[0m\u001b[0m\n\u001b[1;32m      3\u001b[0m \u001b[0;34m\u001b[0m\u001b[0m\n\u001b[0;32m----> 4\u001b[0;31m \u001b[0;32mfrom\u001b[0m \u001b[0msolution_module\u001b[0m \u001b[0;32mimport\u001b[0m \u001b[0mmy_std\u001b[0m\u001b[0;34m\u001b[0m\u001b[0;34m\u001b[0m\u001b[0m\n\u001b[0m\u001b[1;32m      5\u001b[0m \u001b[0;34m\u001b[0m\u001b[0m\n\u001b[1;32m      6\u001b[0m \u001b[0mmy_std\u001b[0m\u001b[0;34m(\u001b[0m\u001b[0;34m[\u001b[0m\u001b[0;36m1.5\u001b[0m\u001b[0;34m,\u001b[0m \u001b[0;36m2.5\u001b[0m\u001b[0;34m,\u001b[0m \u001b[0;36m2.5\u001b[0m\u001b[0;34m,\u001b[0m \u001b[0;36m2.75\u001b[0m\u001b[0;34m,\u001b[0m \u001b[0;36m3.25\u001b[0m\u001b[0;34m,\u001b[0m \u001b[0;36m4.75\u001b[0m\u001b[0;34m]\u001b[0m\u001b[0;34m)\u001b[0m\u001b[0;34m\u001b[0m\u001b[0;34m\u001b[0m\u001b[0m\n",
            "\u001b[0;31mModuleNotFoundError\u001b[0m: No module named 'solution_module'",
            "",
            "\u001b[0;31m---------------------------------------------------------------------------\u001b[0;32m\nNOTE: If your import is failing due to a missing package, you can\nmanually install dependencies using either !pip or !apt.\n\nTo view examples of installing some common dependencies, click the\n\"Open Examples\" button below.\n\u001b[0;31m---------------------------------------------------------------------------\u001b[0m\n"
          ],
          "errorDetails": {
            "actions": [
              {
                "action": "open_url",
                "actionText": "Open Examples",
                "url": "/notebooks/snippets/importing_libraries.ipynb"
              }
            ]
          }
        }
      ],
      "source": [
        "import sys\n",
        "sys.path.append(\"01_basic-python\")\n",
        "\n",
        "from solution_module import my_std\n",
        "\n",
        "my_std([1.5, 2.5, 2.5, 2.75, 3.25, 4.75]) # test2"
      ]
    },
    {
      "cell_type": "markdown",
      "metadata": {
        "id": "W1ZcrTySkjG1"
      },
      "source": [
        "## Congrats\n",
        "\n",
        "<img src=\"https://github.com/uxxgz/py-algorithms-4-automotive-engineering/blob/master/_static/flower.jpg?raw=1\" alt=\"Flower\" width=\"350\" align=\"right\">\n",
        "\n",
        "* These were the basics in Python.\n",
        "* We will move now to Python supporting tools and explore some of the best third party packages, which make Python so powerful."
      ]
    }
  ],
  "metadata": {
    "celltoolbar": "Slideshow",
    "kernelspec": {
      "display_name": "Python 3",
      "language": "python",
      "name": "python3"
    },
    "language_info": {
      "codemirror_mode": {
        "name": "ipython",
        "version": 3
      },
      "file_extension": ".py",
      "mimetype": "text/x-python",
      "name": "python",
      "nbconvert_exporter": "python",
      "pygments_lexer": "ipython3",
      "version": "3.7.6"
    },
    "toc": {
      "base_numbering": 1,
      "nav_menu": {},
      "number_sections": true,
      "sideBar": true,
      "skip_h1_title": false,
      "title_cell": "Table of Contents",
      "title_sidebar": "Contents",
      "toc_cell": false,
      "toc_position": {},
      "toc_section_display": true,
      "toc_window_display": false
    },
    "varInspector": {
      "cols": {
        "lenName": 16,
        "lenType": 16,
        "lenVar": 40
      },
      "kernels_config": {
        "python": {
          "delete_cmd_postfix": "",
          "delete_cmd_prefix": "del ",
          "library": "var_list.py",
          "varRefreshCmd": "print(var_dic_list())"
        },
        "r": {
          "delete_cmd_postfix": ") ",
          "delete_cmd_prefix": "rm(",
          "library": "var_list.r",
          "varRefreshCmd": "cat(var_dic_list()) "
        }
      },
      "types_to_exclude": [
        "module",
        "function",
        "builtin_function_or_method",
        "instance",
        "_Feature"
      ],
      "window_display": false
    },
    "colab": {
      "provenance": [],
      "include_colab_link": true
    }
  },
  "nbformat": 4,
  "nbformat_minor": 0
}