{
  "cells": [
    {
      "cell_type": "markdown",
      "metadata": {
        "id": "view-in-github",
        "colab_type": "text"
      },
      "source": [
        "<a href=\"https://colab.research.google.com/github/uxxgz/py-algorithms-4-automotive-engineering/blob/master/01_basic-python/03_conditions-and-loops.ipynb\" target=\"_parent\"><img src=\"https://colab.research.google.com/assets/colab-badge.svg\" alt=\"Open In Colab\"/></a>"
      ]
    },
    {
      "cell_type": "markdown",
      "metadata": {
        "id": "tbcMjZ26jh_5"
      },
      "source": [
        "[Table of contents](../toc.ipynb)\n",
        "\n",
        "# Conditions\n",
        "\n",
        "* Decisions during execution of a program are at some stage almost everywhere needed.\n",
        "* Conditions tell the computer: *do this if A happens, and do B if something else happens*.\n",
        "* This gives programmer control about program execution."
      ]
    },
    {
      "cell_type": "markdown",
      "metadata": {
        "id": "-qG4dr3Bjh_9"
      },
      "source": [
        "## Control flow\n",
        "\n",
        "<img src=\"https://github.com/uxxgz/py-algorithms-4-automotive-engineering/blob/master/01_basic-python/condition.png?raw=1\" alt=\"Condition\" width=\"450\">"
      ]
    },
    {
      "cell_type": "markdown",
      "metadata": {
        "id": "nKhNbGaijh_-"
      },
      "source": [
        "* These conditional statements are supported:\n",
        "  * `if`\n",
        "  * `elif` (the Python replacement for else if in other languages)\n",
        "  * `else`  "
      ]
    },
    {
      "cell_type": "code",
      "execution_count": null,
      "metadata": {
        "id": "WF23P7-Kjh__",
        "outputId": "7d1ce5c1-3d32-43b7-f700-737b66f4d4fd"
      },
      "outputs": [
        {
          "name": "stdout",
          "output_type": "stream",
          "text": [
            "Not catched\n"
          ]
        }
      ],
      "source": [
        "# Python treats zero as False\n",
        "condition = 0\n",
        "\n",
        "if condition:\n",
        "    print(\"Catched\")\n",
        "else:\n",
        "    print(\"Not catched\")"
      ]
    },
    {
      "cell_type": "code",
      "execution_count": null,
      "metadata": {
        "id": "tJOEEl_7jiAA",
        "outputId": "341a81ff-8a5d-457f-97d2-dc5ba2ca3b91"
      },
      "outputs": [
        {
          "name": "stdout",
          "output_type": "stream",
          "text": [
            "Catched\n"
          ]
        }
      ],
      "source": [
        "# Bools work of course perfectly\n",
        "\n",
        "condition = True\n",
        "\n",
        "if condition:\n",
        "    print(\"Catched\")\n",
        "else:\n",
        "    print(\"Not catched\")"
      ]
    },
    {
      "cell_type": "code",
      "execution_count": null,
      "metadata": {
        "id": "NnoSTOX0jiAB",
        "outputId": "7db158a8-b63d-43e1-fb45-6841401c71a5"
      },
      "outputs": [
        {
          "name": "stdout",
          "output_type": "stream",
          "text": [
            "Signal overshoot\n"
          ]
        }
      ],
      "source": [
        "# Any arithmetic or comparision operator will work as well\n",
        "\n",
        "signal = 5.5\n",
        "\n",
        "if signal > 2.5:\n",
        "    print(\"Signal overshoot\")"
      ]
    },
    {
      "cell_type": "markdown",
      "metadata": {
        "id": "2rlm7QNQjiAC"
      },
      "source": [
        "## Exercise: Conditions  (10 minutes)\n",
        "\n",
        "<img src=\"https://github.com/uxxgz/py-algorithms-4-automotive-engineering/blob/master/_static/exercise.png?raw=1\" alt=\"Exercise\" width=\"75\" align=\"left\">\n",
        "\n",
        "* Write a python function which checks if a number is positive, negative, or zero.\n",
        "* The script should print the state (pos, neg, or zero) and the number.\n",
        "\n",
        "**Hint**\n",
        "* The function syntax (we will cover them later) in Python is\n",
        "\n",
        "```python\n",
        "def my_func(args):\n",
        "    your code goes here\n",
        "\n",
        "```\n",
        "* You might need `elif` for it.\n",
        "* The print command might be `print(\"Positive number\", x)` and the like."
      ]
    },
    {
      "cell_type": "markdown",
      "metadata": {
        "id": "kmbk9AmnjiAC"
      },
      "source": [
        "## Solution\n",
        "\n",
        "Please find one possible solution in [`solution_condition.py`](solution_condition.py) file."
      ]
    },
    {
      "cell_type": "code",
      "execution_count": null,
      "metadata": {
        "id": "OTaJaJCZjiAD",
        "outputId": "7406b0c4-1590-4549-8a2e-b8c871c70812"
      },
      "outputs": [
        {
          "name": "stdout",
          "output_type": "stream",
          "text": [
            "Is zero 0\n"
          ]
        }
      ],
      "source": [
        "import sys\n",
        "sys.path.append(\"01_basic-python\")\n",
        "\n",
        "from solution_condition import *\n",
        "\n",
        "check_value(0)"
      ]
    },
    {
      "cell_type": "code",
      "execution_count": null,
      "metadata": {
        "id": "k1b6fZpjjiAE",
        "outputId": "0b2b0446-4407-48b9-dcec-e5098abd1f34"
      },
      "outputs": [
        {
          "name": "stdout",
          "output_type": "stream",
          "text": [
            "Is positive 11\n"
          ]
        }
      ],
      "source": [
        "check_value(11)"
      ]
    },
    {
      "cell_type": "code",
      "execution_count": null,
      "metadata": {
        "id": "4DiznGaQjiAE",
        "outputId": "150ceb06-dd70-45cb-c17c-b2aeabac7c81"
      },
      "outputs": [
        {
          "name": "stdout",
          "output_type": "stream",
          "text": [
            "Is negative -3.14\n"
          ]
        }
      ],
      "source": [
        "check_value(-3.14)"
      ]
    },
    {
      "cell_type": "markdown",
      "metadata": {
        "id": "1R7WnqROjiAF"
      },
      "source": [
        "# Loops\n",
        "\n",
        "* Loops are required to execute code multiple times.\n",
        "* The basic loop keywords are\n",
        "  * `while`\n",
        "  * `for`\n",
        "* Finer control inside loops is provided by\n",
        "  * `break`\n",
        "  * `continue`\n",
        "  * `pass` statements"
      ]
    },
    {
      "cell_type": "markdown",
      "metadata": {
        "id": "cxdW0paNjiAG"
      },
      "source": [
        "## Control flow\n",
        "\n",
        "<img src=\"https://github.com/uxxgz/py-algorithms-4-automotive-engineering/blob/master/01_basic-python/loop.png?raw=1\" alt=\"Loop\" width=\"450\">"
      ]
    },
    {
      "cell_type": "markdown",
      "metadata": {
        "id": "WqEJPIUmjiAH"
      },
      "source": [
        "## Iterators\n",
        "\n",
        "* Some common code snippets to define loop iterators are\n",
        "  * `in range(start, stop)`\n",
        "  * `in`\n",
        "  * `in enumerate` which enumertates many objects like lists and returns index and item"
      ]
    },
    {
      "cell_type": "markdown",
      "metadata": {
        "id": "rq28C3W1jiAI"
      },
      "source": [
        "## For loop\n",
        "\n",
        "* A for loop repeats a statement over a sequence."
      ]
    },
    {
      "cell_type": "code",
      "execution_count": null,
      "metadata": {
        "id": "zTrdqZpzjiAJ",
        "outputId": "e59a7e3b-ad3e-46b5-a356-2a9f0e21252d"
      },
      "outputs": [
        {
          "name": "stdout",
          "output_type": "stream",
          "text": [
            "0\n",
            "2\n",
            "3\n"
          ]
        }
      ],
      "source": [
        "for i in [0, 2, 3]:\n",
        "    print(i)"
      ]
    },
    {
      "cell_type": "code",
      "execution_count": null,
      "metadata": {
        "id": "NkQ0fkUFjiAK",
        "outputId": "a8a26ed6-bd2d-4416-ce93-eb21b77fd2b5"
      },
      "outputs": [
        {
          "name": "stdout",
          "output_type": "stream",
          "text": [
            "2\n",
            "3\n",
            "4\n"
          ]
        }
      ],
      "source": [
        "for i in range(2, 5):\n",
        "    print(i)"
      ]
    },
    {
      "cell_type": "code",
      "execution_count": null,
      "metadata": {
        "id": "PVyUlXRqjiAL",
        "outputId": "6fe1a1df-12c5-4f87-8faf-3929c9e3af05"
      },
      "outputs": [
        {
          "name": "stdout",
          "output_type": "stream",
          "text": [
            "Index= 0 Value= 1\n",
            "Index= 1 Value= 5\n",
            "Index= 2 Value= 22\n"
          ]
        }
      ],
      "source": [
        "my_list = [1, 5, 22]\n",
        "\n",
        "for idx, value in enumerate(my_list):\n",
        "    print(\"Index=\", idx, \"Value=\", value)"
      ]
    },
    {
      "cell_type": "code",
      "execution_count": null,
      "metadata": {
        "id": "0CoeDvlQjiAM",
        "outputId": "3b83a26a-0e78-46b8-cfed-3420146d35bc"
      },
      "outputs": [
        {
          "name": "stdout",
          "output_type": "stream",
          "text": [
            "0\n",
            "1\n",
            "2\n",
            "3\n",
            "4\n",
            "5\n",
            "6\n",
            "Here the break\n"
          ]
        }
      ],
      "source": [
        "# Here a for loop with a break\n",
        "\n",
        "for i in range(0, 99):\n",
        "    print(i)\n",
        "    if i > 5:\n",
        "        print(\"Here the break\")\n",
        "        break"
      ]
    },
    {
      "cell_type": "code",
      "execution_count": null,
      "metadata": {
        "id": "26fElqeFjiAN",
        "outputId": "dd66110d-c820-4a9c-93b4-e919536fb977"
      },
      "outputs": [
        {
          "name": "stdout",
          "output_type": "stream",
          "text": [
            "power is adjusted to 3.5\n",
            "temperature is adjusted to 23\n",
            "speed is adjusted to 120.3\n"
          ]
        }
      ],
      "source": [
        "# You can also loop over dictionaries\n",
        "\n",
        "my_dict = {\"power\": 3.5, \"speed\": 120.3, \"temperature\": 23}\n",
        "\n",
        "for field in my_dict.keys():\n",
        "    print(field, \"is adjusted to\", my_dict[field])"
      ]
    },
    {
      "cell_type": "code",
      "execution_count": null,
      "metadata": {
        "id": "G8txjUipjiAO",
        "outputId": "b4f43520-ad58-4759-a255-aad35d08b9d0"
      },
      "outputs": [
        {
          "name": "stdout",
          "output_type": "stream",
          "text": [
            "H\n",
            "e\n",
            "l\n",
            "l\n",
            "o\n",
            " \n",
            "W\n",
            "o\n",
            "r\n",
            "l\n",
            "d\n"
          ]
        }
      ],
      "source": [
        "# Also strings work well\n",
        "\n",
        "my_string = \"Hello World\"\n",
        "\n",
        "for letter in my_string:\n",
        "    print(letter)"
      ]
    },
    {
      "cell_type": "markdown",
      "metadata": {
        "id": "vtcZ0zCzjiAO"
      },
      "source": [
        "### For loop over two lists\n",
        "\n",
        "* You can use `zip` to loop over multiple lists."
      ]
    },
    {
      "cell_type": "code",
      "execution_count": null,
      "metadata": {
        "id": "vQJbns90jiAP",
        "outputId": "966d2ea1-492a-4a95-fc77-cece5655a3ed"
      },
      "outputs": [
        {
          "name": "stdout",
          "output_type": "stream",
          "text": [
            "0\n",
            "21\n",
            "-15\n"
          ]
        }
      ],
      "source": [
        "list_one = [0, 3, 5]\n",
        "list_two = [8, 7, -3]\n",
        "\n",
        "for i, j in zip(list_one, list_two):\n",
        "    print(i * j)"
      ]
    },
    {
      "cell_type": "markdown",
      "metadata": {
        "id": "NuMP2SBcjiAQ"
      },
      "source": [
        "## While loop\n",
        "\n",
        "* Repeats a statement as long as condition is `True`.\n",
        "* `while` loops are used if you do not know how long the sequence should be repeated.\n",
        "* Condition is checked before code execution.\n",
        "* You have to make sure that your while loops do not continue to infinity.\n",
        "* `while` loops are barely used compared with `for` loops."
      ]
    },
    {
      "cell_type": "code",
      "execution_count": null,
      "metadata": {
        "id": "li-eis1SjiAQ",
        "outputId": "d62901e8-b36f-4cd7-c470-451abb97330e"
      },
      "outputs": [
        {
          "name": "stdout",
          "output_type": "stream",
          "text": [
            "1\n",
            "2\n",
            "3\n",
            "4\n"
          ]
        }
      ],
      "source": [
        "i = 0\n",
        "\n",
        "while i < 4:\n",
        "    i += 1  # do not forget to increment\n",
        "    print(i)"
      ]
    },
    {
      "cell_type": "code",
      "execution_count": null,
      "metadata": {
        "id": "dLsOeUNMjiAR",
        "outputId": "06b80c2d-bc8f-4a65-f85b-134a1f46ea90"
      },
      "outputs": [
        {
          "name": "stdout",
          "output_type": "stream",
          "text": [
            "18\n"
          ]
        }
      ],
      "source": [
        "\"\"\"Here a example for a while loop.\n",
        "This loop will require different number of runs\n",
        "until condition becomes True.\"\"\"\n",
        "\n",
        "import random\n",
        "criterion = 9.5\n",
        "sum_of_numbers = 0.0\n",
        "idx = 0\n",
        "\n",
        "\n",
        "while sum_of_numbers < criterion:\n",
        "    sum_of_numbers += random.random()\n",
        "    idx += 1\n",
        "\n",
        "print(idx)"
      ]
    },
    {
      "cell_type": "markdown",
      "metadata": {
        "id": "U1BfE57XjiAR"
      },
      "source": [
        "## Exercise: For loop  (5 minutes)\n",
        "\n",
        "<img src=\"https://github.com/uxxgz/py-algorithms-4-automotive-engineering/blob/master/_static/exercise.png?raw=1\" alt=\"Exercise\" width=\"75\" align=\"left\">\n",
        "\n",
        "* Write a `for` loop which iterates over the values in dictionary\n",
        "\n",
        "  `{\"force\": [0, 10, 15, 30, 45], \"distance\": [2.5, 3.5, 6.0, -3.0, 8.1]}`\n",
        "\n",
        "  and computes the product of the two fields.\n",
        "* Print the overall sum of these products.\n",
        "\n",
        "**Hint**\n",
        "* Think about if conversion of the dictionary makes sense."
      ]
    },
    {
      "cell_type": "markdown",
      "metadata": {
        "id": "t9PUDGEMjiAS"
      },
      "source": [
        "## Solution\n",
        "\n",
        "Please find one possible solution in [`solution_loop.py`](solution_loop.py) file."
      ]
    },
    {
      "cell_type": "code",
      "execution_count": null,
      "metadata": {
        "id": "CzWH80AnjiAS",
        "outputId": "bc22e62a-885c-4bca-d471-ccb03d152623"
      },
      "outputs": [
        {
          "name": "stdout",
          "output_type": "stream",
          "text": [
            "399.5\n"
          ]
        }
      ],
      "source": [
        "%run solution_loop # test change"
      ]
    }
  ],
  "metadata": {
    "celltoolbar": "Slideshow",
    "kernelspec": {
      "display_name": "Python 3",
      "language": "python",
      "name": "python3"
    },
    "language_info": {
      "codemirror_mode": {
        "name": "ipython",
        "version": 3
      },
      "file_extension": ".py",
      "mimetype": "text/x-python",
      "name": "python",
      "nbconvert_exporter": "python",
      "pygments_lexer": "ipython3",
      "version": "3.7.7"
    },
    "toc": {
      "base_numbering": 1,
      "nav_menu": {},
      "number_sections": true,
      "sideBar": true,
      "skip_h1_title": false,
      "title_cell": "Table of Contents",
      "title_sidebar": "Contents",
      "toc_cell": false,
      "toc_position": {},
      "toc_section_display": true,
      "toc_window_display": false
    },
    "varInspector": {
      "cols": {
        "lenName": 16,
        "lenType": 16,
        "lenVar": 40
      },
      "kernels_config": {
        "python": {
          "delete_cmd_postfix": "",
          "delete_cmd_prefix": "del ",
          "library": "var_list.py",
          "varRefreshCmd": "print(var_dic_list())"
        },
        "r": {
          "delete_cmd_postfix": ") ",
          "delete_cmd_prefix": "rm(",
          "library": "var_list.r",
          "varRefreshCmd": "cat(var_dic_list()) "
        }
      },
      "types_to_exclude": [
        "module",
        "function",
        "builtin_function_or_method",
        "instance",
        "_Feature"
      ],
      "window_display": false
    },
    "colab": {
      "provenance": [],
      "include_colab_link": true
    }
  },
  "nbformat": 4,
  "nbformat_minor": 0
}